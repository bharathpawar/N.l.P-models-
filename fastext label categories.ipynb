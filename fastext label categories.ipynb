{
 "cells": [
  {
   "cell_type": "code",
   "execution_count": 2,
   "metadata": {},
   "outputs": [],
   "source": [
    "import pandas as pd"
   ]
  },
  {
   "cell_type": "code",
   "execution_count": 3,
   "metadata": {},
   "outputs": [],
   "source": [
    "tech=pd.read_csv(r\"/users/pawarbharath/internsic science labs/tech.csv\")"
   ]
  },
  {
   "cell_type": "code",
   "execution_count": 4,
   "metadata": {},
   "outputs": [],
   "source": [
    "tech=tech.drop(\"Unnamed: 0\",axis=1)"
   ]
  },
  {
   "cell_type": "code",
   "execution_count": 5,
   "metadata": {},
   "outputs": [],
   "source": [
    "tool=pd.read_csv(r\"/users/pawarbharath/internsic science labs/tool.csv\")"
   ]
  },
  {
   "cell_type": "code",
   "execution_count": 6,
   "metadata": {},
   "outputs": [],
   "source": [
    "tool=tool.drop(\"Unnamed: 0\",axis=1)"
   ]
  },
  {
   "cell_type": "code",
   "execution_count": 7,
   "metadata": {},
   "outputs": [],
   "source": [
    "ability=pd.read_excel(r'/users/pawarbharath/downloads/onet/Abilities.xlsx',usecols = [\"Element Name\"])\n",
    "\n"
   ]
  },
  {
   "cell_type": "code",
   "execution_count": 8,
   "metadata": {},
   "outputs": [
    {
     "name": "stdout",
     "output_type": "stream",
     "text": [
      "            Element Name\n",
      "0     Oral Comprehension\n",
      "2  Written Comprehension\n",
      "4        Oral Expression\n",
      "6     Written Expression\n",
      "8       Fluency of Ideas\n"
     ]
    }
   ],
   "source": [
    "newability = ability.drop_duplicates(subset=[\"Element Name\"])\n",
    "print(newability.head())"
   ]
  },
  {
   "cell_type": "code",
   "execution_count": 9,
   "metadata": {},
   "outputs": [
    {
     "data": {
      "text/plain": [
       "(52, 1)"
      ]
     },
     "execution_count": 9,
     "metadata": {},
     "output_type": "execute_result"
    }
   ],
   "source": [
    "newability.shape"
   ]
  },
  {
   "cell_type": "code",
   "execution_count": 10,
   "metadata": {},
   "outputs": [
    {
     "name": "stderr",
     "output_type": "stream",
     "text": [
      "/Users/pawarbharath/opt/anaconda3/lib/python3.7/site-packages/ipykernel_launcher.py:1: SettingWithCopyWarning: \n",
      "A value is trying to be set on a copy of a slice from a DataFrame.\n",
      "Try using .loc[row_indexer,col_indexer] = value instead\n",
      "\n",
      "See the caveats in the documentation: http://pandas.pydata.org/pandas-docs/stable/user_guide/indexing.html#returning-a-view-versus-a-copy\n",
      "  \"\"\"Entry point for launching an IPython kernel.\n"
     ]
    }
   ],
   "source": [
    "newability[\"category\"]=\"ability\""
   ]
  },
  {
   "cell_type": "code",
   "execution_count": 11,
   "metadata": {},
   "outputs": [],
   "source": [
    "newability=newability.reset_index()"
   ]
  },
  {
   "cell_type": "code",
   "execution_count": 12,
   "metadata": {},
   "outputs": [],
   "source": [
    "newability=newability.drop(\"index\",axis=1)"
   ]
  },
  {
   "cell_type": "code",
   "execution_count": 13,
   "metadata": {},
   "outputs": [],
   "source": [
    "newability[\"target\"]=2"
   ]
  },
  {
   "cell_type": "code",
   "execution_count": 14,
   "metadata": {},
   "outputs": [],
   "source": [
    "newability.rename(columns = {'Element Name':'Example'}, inplace = True) "
   ]
  },
  {
   "cell_type": "code",
   "execution_count": 15,
   "metadata": {},
   "outputs": [
    {
     "data": {
      "text/plain": [
       "(52, 3)"
      ]
     },
     "execution_count": 15,
     "metadata": {},
     "output_type": "execute_result"
    }
   ],
   "source": [
    "newability.shape"
   ]
  },
  {
   "cell_type": "code",
   "execution_count": 16,
   "metadata": {},
   "outputs": [],
   "source": [
    "title=pd.read_excel(r'/users/pawarbharath/downloads/onet/Alternate Titles.xlsx',usecols = [\"Alternate Title\"])\n",
    "\n",
    "\n"
   ]
  },
  {
   "cell_type": "code",
   "execution_count": 17,
   "metadata": {},
   "outputs": [],
   "source": [
    "title.rename(columns = {'Alternate Title':'Example'}, inplace = True) "
   ]
  },
  {
   "cell_type": "code",
   "execution_count": 18,
   "metadata": {},
   "outputs": [],
   "source": [
    "title[\"category\"]=\"title\""
   ]
  },
  {
   "cell_type": "code",
   "execution_count": 19,
   "metadata": {},
   "outputs": [],
   "source": [
    "title[\"target\"]=3"
   ]
  },
  {
   "cell_type": "code",
   "execution_count": 21,
   "metadata": {},
   "outputs": [],
   "source": [
    "industry=pd.read_excel(r'/users/pawarbharath/desktop/industry.xlsx')\n",
    "\n",
    "\n"
   ]
  },
  {
   "cell_type": "code",
   "execution_count": 22,
   "metadata": {},
   "outputs": [],
   "source": [
    "industry[\"category\"]=\"industry knowledge\""
   ]
  },
  {
   "cell_type": "code",
   "execution_count": 23,
   "metadata": {},
   "outputs": [],
   "source": [
    "industry[\"target\"]=4"
   ]
  },
  {
   "cell_type": "code",
   "execution_count": 24,
   "metadata": {},
   "outputs": [],
   "source": [
    "frame= [tech,tool,newability,title,industry]"
   ]
  },
  {
   "cell_type": "code",
   "execution_count": 37,
   "metadata": {
    "collapsed": true
   },
   "outputs": [
    {
     "data": {
      "text/plain": [
       "[                                    Example    category  target\n",
       " 0               Adobe Systems Adobe Acrobat  technology       0\n",
       " 1                           AdSense Tracker  technology       0\n",
       " 2                            Atlassian JIRA  technology       0\n",
       " 3               Blackbaud The Raiser's Edge  technology       0\n",
       " 4      ComputerEase Construction Accounting  technology       0\n",
       " ...                                     ...         ...     ...\n",
       " 29007        Distributed control system DCS  technology       0\n",
       " 29008                                 Linux  technology       0\n",
       " 29009                       Microsoft Excel  technology       0\n",
       " 29010                      Microsoft Office  technology       0\n",
       " 29011                               Palm OS  technology       0\n",
       " \n",
       " [29012 rows x 3 columns],\n",
       "                                Example category  target\n",
       " 0                   10-key calculators     tool       1\n",
       " 1                    Desktop computers     tool       1\n",
       " 2                     Laptop computers     tool       1\n",
       " 3                   Personal computers     tool       1\n",
       " 4      Personal digital assistants PDA     tool       1\n",
       " ...                                ...      ...     ...\n",
       " 41535                    Stock pickers     tool       1\n",
       " 41536                 Tablet computers     tool       1\n",
       " 41537         Walk behind pallet jacks     tool       1\n",
       " 41538              Warehouse forklifts     tool       1\n",
       " 41539        Wheeled front end loaders     tool       1\n",
       " \n",
       " [41540 rows x 3 columns],\n",
       "                         Example category  target\n",
       " 0            Oral Comprehension  ability       2\n",
       " 1         Written Comprehension  ability       2\n",
       " 2               Oral Expression  ability       2\n",
       " 3            Written Expression  ability       2\n",
       " 4              Fluency of Ideas  ability       2\n",
       " 5                   Originality  ability       2\n",
       " 6           Problem Sensitivity  ability       2\n",
       " 7           Deductive Reasoning  ability       2\n",
       " 8           Inductive Reasoning  ability       2\n",
       " 9          Information Ordering  ability       2\n",
       " 10         Category Flexibility  ability       2\n",
       " 11       Mathematical Reasoning  ability       2\n",
       " 12              Number Facility  ability       2\n",
       " 13                 Memorization  ability       2\n",
       " 14             Speed of Closure  ability       2\n",
       " 15       Flexibility of Closure  ability       2\n",
       " 16             Perceptual Speed  ability       2\n",
       " 17          Spatial Orientation  ability       2\n",
       " 18                Visualization  ability       2\n",
       " 19          Selective Attention  ability       2\n",
       " 20                 Time Sharing  ability       2\n",
       " 21          Arm-Hand Steadiness  ability       2\n",
       " 22             Manual Dexterity  ability       2\n",
       " 23             Finger Dexterity  ability       2\n",
       " 24            Control Precision  ability       2\n",
       " 25       Multilimb Coordination  ability       2\n",
       " 26         Response Orientation  ability       2\n",
       " 27                 Rate Control  ability       2\n",
       " 28                Reaction Time  ability       2\n",
       " 29           Wrist-Finger Speed  ability       2\n",
       " 30       Speed of Limb Movement  ability       2\n",
       " 31              Static Strength  ability       2\n",
       " 32           Explosive Strength  ability       2\n",
       " 33             Dynamic Strength  ability       2\n",
       " 34               Trunk Strength  ability       2\n",
       " 35                      Stamina  ability       2\n",
       " 36           Extent Flexibility  ability       2\n",
       " 37          Dynamic Flexibility  ability       2\n",
       " 38      Gross Body Coordination  ability       2\n",
       " 39       Gross Body Equilibrium  ability       2\n",
       " 40                  Near Vision  ability       2\n",
       " 41                   Far Vision  ability       2\n",
       " 42  Visual Color Discrimination  ability       2\n",
       " 43                 Night Vision  ability       2\n",
       " 44            Peripheral Vision  ability       2\n",
       " 45             Depth Perception  ability       2\n",
       " 46            Glare Sensitivity  ability       2\n",
       " 47          Hearing Sensitivity  ability       2\n",
       " 48           Auditory Attention  ability       2\n",
       " 49           Sound Localization  ability       2\n",
       " 50           Speech Recognition  ability       2\n",
       " 51               Speech Clarity  ability       2,\n",
       "                                                  Example category  target\n",
       " 0                        Aeronautics Commission Director    title       3\n",
       " 1                         Agricultural Services Director    title       3\n",
       " 2                   Arts and Humanities Council Director    title       3\n",
       " 3                                         Bank President    title       3\n",
       " 4                                           Bureau Chief    title       3\n",
       " ...                                                  ...      ...     ...\n",
       " 52572                                 Tactical Debriefer    title       3\n",
       " 52573  Tactical/Mobile (Tacmobile) Ashore Analysis Sy...    title       3\n",
       " 52574                         Target Aircraft Technician    title       3\n",
       " 52575  Technical Surveillance Countermeasures (TSCM) ...    title       3\n",
       " 52576                Unattended Ground Sensor Specialist    title       3\n",
       " \n",
       " [52577 rows x 3 columns],\n",
       "                                Example            category  target\n",
       " 0                            marketing  industry knowledge       4\n",
       " 1               social media marketing  industry knowledge       4\n",
       " 2                             blogging  industry knowledge       4\n",
       " 3    customer relation ship management  industry knowledge       4\n",
       " 4       mobile application development  industry knowledge       4\n",
       " ..                                 ...                 ...     ...\n",
       " 105                          start-ups  industry knowledge       4\n",
       " 106            conversion-optimization  industry knowledge       4\n",
       " 107              user interface design  industry knowledge       4\n",
       " 108                         consulting  industry knowledge       4\n",
       " 109                  social networking  industry knowledge       4\n",
       " \n",
       " [110 rows x 3 columns]]"
      ]
     },
     "execution_count": 37,
     "metadata": {},
     "output_type": "execute_result"
    }
   ],
   "source": [
    "frame"
   ]
  },
  {
   "cell_type": "code",
   "execution_count": 25,
   "metadata": {},
   "outputs": [],
   "source": [
    "result = pd.concat(frame)\n",
    "result=result.reset_index()\n",
    "result=result.drop(\"index\",axis=1)"
   ]
  },
  {
   "cell_type": "code",
   "execution_count": 38,
   "metadata": {},
   "outputs": [
    {
     "data": {
      "text/html": [
       "<div>\n",
       "<style scoped>\n",
       "    .dataframe tbody tr th:only-of-type {\n",
       "        vertical-align: middle;\n",
       "    }\n",
       "\n",
       "    .dataframe tbody tr th {\n",
       "        vertical-align: top;\n",
       "    }\n",
       "\n",
       "    .dataframe thead th {\n",
       "        text-align: right;\n",
       "    }\n",
       "</style>\n",
       "<table border=\"1\" class=\"dataframe\">\n",
       "  <thead>\n",
       "    <tr style=\"text-align: right;\">\n",
       "      <th></th>\n",
       "      <th>Example</th>\n",
       "      <th>category</th>\n",
       "      <th>target</th>\n",
       "    </tr>\n",
       "  </thead>\n",
       "  <tbody>\n",
       "    <tr>\n",
       "      <td>0</td>\n",
       "      <td>Adobe Systems Adobe Acrobat</td>\n",
       "      <td>technology</td>\n",
       "      <td>0</td>\n",
       "    </tr>\n",
       "    <tr>\n",
       "      <td>1</td>\n",
       "      <td>AdSense Tracker</td>\n",
       "      <td>technology</td>\n",
       "      <td>0</td>\n",
       "    </tr>\n",
       "    <tr>\n",
       "      <td>2</td>\n",
       "      <td>Atlassian JIRA</td>\n",
       "      <td>technology</td>\n",
       "      <td>0</td>\n",
       "    </tr>\n",
       "    <tr>\n",
       "      <td>3</td>\n",
       "      <td>Blackbaud The Raiser's Edge</td>\n",
       "      <td>technology</td>\n",
       "      <td>0</td>\n",
       "    </tr>\n",
       "    <tr>\n",
       "      <td>4</td>\n",
       "      <td>ComputerEase Construction Accounting</td>\n",
       "      <td>technology</td>\n",
       "      <td>0</td>\n",
       "    </tr>\n",
       "    <tr>\n",
       "      <td>...</td>\n",
       "      <td>...</td>\n",
       "      <td>...</td>\n",
       "      <td>...</td>\n",
       "    </tr>\n",
       "    <tr>\n",
       "      <td>123286</td>\n",
       "      <td>start-ups</td>\n",
       "      <td>industry knowledge</td>\n",
       "      <td>4</td>\n",
       "    </tr>\n",
       "    <tr>\n",
       "      <td>123287</td>\n",
       "      <td>conversion-optimization</td>\n",
       "      <td>industry knowledge</td>\n",
       "      <td>4</td>\n",
       "    </tr>\n",
       "    <tr>\n",
       "      <td>123288</td>\n",
       "      <td>user interface design</td>\n",
       "      <td>industry knowledge</td>\n",
       "      <td>4</td>\n",
       "    </tr>\n",
       "    <tr>\n",
       "      <td>123289</td>\n",
       "      <td>consulting</td>\n",
       "      <td>industry knowledge</td>\n",
       "      <td>4</td>\n",
       "    </tr>\n",
       "    <tr>\n",
       "      <td>123290</td>\n",
       "      <td>social networking</td>\n",
       "      <td>industry knowledge</td>\n",
       "      <td>4</td>\n",
       "    </tr>\n",
       "  </tbody>\n",
       "</table>\n",
       "<p>123291 rows × 3 columns</p>\n",
       "</div>"
      ],
      "text/plain": [
       "                                     Example            category  target\n",
       "0                Adobe Systems Adobe Acrobat          technology       0\n",
       "1                            AdSense Tracker          technology       0\n",
       "2                             Atlassian JIRA          technology       0\n",
       "3                Blackbaud The Raiser's Edge          technology       0\n",
       "4       ComputerEase Construction Accounting          technology       0\n",
       "...                                      ...                 ...     ...\n",
       "123286                             start-ups  industry knowledge       4\n",
       "123287               conversion-optimization  industry knowledge       4\n",
       "123288                 user interface design  industry knowledge       4\n",
       "123289                            consulting  industry knowledge       4\n",
       "123290                     social networking  industry knowledge       4\n",
       "\n",
       "[123291 rows x 3 columns]"
      ]
     },
     "execution_count": 38,
     "metadata": {},
     "output_type": "execute_result"
    }
   ],
   "source": [
    "result"
   ]
  },
  {
   "cell_type": "code",
   "execution_count": null,
   "metadata": {},
   "outputs": [],
   "source": []
  },
  {
   "cell_type": "code",
   "execution_count": 26,
   "metadata": {},
   "outputs": [],
   "source": [
    "result.to_csv('categories.csv') "
   ]
  },
  {
   "cell_type": "code",
   "execution_count": 27,
   "metadata": {},
   "outputs": [
    {
     "data": {
      "text/plain": [
       "<matplotlib.axes._subplots.AxesSubplot at 0x7fcdf219d850>"
      ]
     },
     "execution_count": 27,
     "metadata": {},
     "output_type": "execute_result"
    }
   ],
   "source": [
    "import seaborn as sns\n",
    "sns.countplot(result.category)"
   ]
  },
  {
   "cell_type": "code",
   "execution_count": 28,
   "metadata": {},
   "outputs": [
    {
     "data": {
      "text/plain": [
       "title                 15677\n",
       "tool                  12604\n",
       "technology             8656\n",
       "industry knowledge       33\n",
       "ability                  18\n",
       "Name: category, dtype: int64"
      ]
     },
     "execution_count": 28,
     "metadata": {},
     "output_type": "execute_result"
    }
   ],
   "source": [
    "from sklearn.model_selection import train_test_split\n",
    "training,validation=train_test_split(result,random_state=42,test_size=0.3)\n",
    "training=training.drop(\"target\",axis=1)\n",
    "validation=validation.drop(\"target\",axis=1)\n",
    "validation[\"category\"].value_counts()"
   ]
  },
  {
   "cell_type": "code",
   "execution_count": 29,
   "metadata": {},
   "outputs": [],
   "source": [
    "import fasttext\n",
    "import csv\n",
    "from gensim.utils import simple_preprocess\n",
    "dataset=training\n",
    "ds=validation"
   ]
  },
  {
   "cell_type": "code",
   "execution_count": 30,
   "metadata": {},
   "outputs": [],
   "source": [
    "# NLP Preprocess\n",
    "dataset.iloc[:, 0] = dataset.iloc[:, 0].apply(lambda x: ' '.join(simple_preprocess(x)))\n",
    "ds.iloc[:, 0] = ds.iloc[:, 0].apply(lambda x: ' '.join(simple_preprocess(x)))\n",
    "\n"
   ]
  },
  {
   "cell_type": "code",
   "execution_count": 31,
   "metadata": {},
   "outputs": [],
   "source": [
    "# Prefixing each row of the category column with '__label__'\n",
    "dataset.iloc[:, 1] = dataset.iloc[:, 1].apply(lambda x: '__label__' + x)\n",
    "ds.iloc[:, 1] = ds.iloc[:, 1].apply(lambda x: '__label__' + x)\n",
    "\n"
   ]
  },
  {
   "cell_type": "code",
   "execution_count": 32,
   "metadata": {},
   "outputs": [],
   "source": [
    "# Saving the CSV file as a text file to train/test the classifier\n",
    "dataset[['Example', 'category']].to_csv('train2.txt', \n",
    "                                          index = False, \n",
    "                                          sep = ' ',\n",
    "                                          header = None, \n",
    "                                          quoting = csv.QUOTE_NONE, \n",
    "                                          quotechar = \"\", \n",
    "                                          escapechar = \" \")\n",
    "\n",
    "ds[['Example', 'category']].to_csv('test2.txt', \n",
    "                                     index = False, \n",
    "                                     sep = ' ',\n",
    "                                     header = None, \n",
    "                                     quoting = csv.QUOTE_NONE, \n",
    "                                     quotechar = \"\", \n",
    "                                     escapechar = \" \")\n"
   ]
  },
  {
   "cell_type": "code",
   "execution_count": 33,
   "metadata": {},
   "outputs": [
    {
     "name": "stdout",
     "output_type": "stream",
     "text": [
      "(30823, 0.9670700450961944, 0.9670700450961944)\n"
     ]
    }
   ],
   "source": [
    "# Training the fastText classifier\n",
    "model = fasttext.train_supervised('train2.txt', wordNgrams = 2,lr=0.1,bucket=2000)\n",
    "\n",
    "test=model.test('test1.txt') \n",
    "print(test)"
   ]
  },
  {
   "cell_type": "code",
   "execution_count": 34,
   "metadata": {},
   "outputs": [
    {
     "name": "stdout",
     "output_type": "stream",
     "text": [
      "(('__label__technology',), array([0.64207143]))\n"
     ]
    }
   ],
   "source": [
    "input_text=\"startup\"\n",
    "\n",
    "for i in input_text:\n",
    "    out=model.predict(input_text)\n",
    "print(out)"
   ]
  },
  {
   "cell_type": "code",
   "execution_count": 35,
   "metadata": {},
   "outputs": [
    {
     "data": {
      "text/plain": [
       "(30823, 0.9670700450961944, 0.9670700450961944)"
      ]
     },
     "execution_count": 35,
     "metadata": {},
     "output_type": "execute_result"
    }
   ],
   "source": [
    "test\n",
    "\n",
    "#30823 samples pecision and recall"
   ]
  },
  {
   "cell_type": "code",
   "execution_count": 36,
   "metadata": {},
   "outputs": [
    {
     "data": {
      "text/plain": [
       "(('__label__title',), array([0.99948579]))"
      ]
     },
     "execution_count": 36,
     "metadata": {},
     "output_type": "execute_result"
    }
   ],
   "source": [
    "model.predict(ds.iloc[5, 0])"
   ]
  },
  {
   "cell_type": "code",
   "execution_count": null,
   "metadata": {},
   "outputs": [],
   "source": [
    "text = ''\n",
    "model.predict(text)"
   ]
  },
  {
   "cell_type": "code",
   "execution_count": null,
   "metadata": {},
   "outputs": [],
   "source": [
    "input_text=\"startup\"\n",
    "\n",
    "for i in input_text:\n",
    "    out=model.predict(input_text)\n",
    "print(out)"
   ]
  },
  {
   "cell_type": "code",
   "execution_count": null,
   "metadata": {},
   "outputs": [],
   "source": [
    "num_records, precision_at_k, recall_at_k = model.test(\"test.txt\")"
   ]
  },
  {
   "cell_type": "code",
   "execution_count": null,
   "metadata": {},
   "outputs": [],
   "source": [
    "num_records"
   ]
  },
  {
   "cell_type": "code",
   "execution_count": null,
   "metadata": {},
   "outputs": [],
   "source": [
    "precision_at_k"
   ]
  },
  {
   "cell_type": "code",
   "execution_count": null,
   "metadata": {},
   "outputs": [],
   "source": [
    "recall_at_k "
   ]
  },
  {
   "cell_type": "code",
   "execution_count": null,
   "metadata": {},
   "outputs": [],
   "source": [
    "f1_at_k = 2 * (precision_at_k * recall_at_k) / (precision_at_k + recall_at_k)"
   ]
  },
  {
   "cell_type": "code",
   "execution_count": null,
   "metadata": {},
   "outputs": [],
   "source": [
    "f1_at_k"
   ]
  },
  {
   "cell_type": "code",
   "execution_count": null,
   "metadata": {},
   "outputs": [],
   "source": [
    "def print_results(model, data, k):\n",
    "\n",
    "\n",
    "    print(\"records\\t{}\".format(num_records))\n",
    "    print(\"Precision@{}\\t{:.3f}\".format(k, precision_at_k))\n",
    "    print(\"Recall@{}\\t{:.3f}\".format(k, recall_at_k))\n",
    "    print(\"F1@{}\\t{:.3f}\".format(k, f1_at_k))\n",
    "    print()\n",
    "    "
   ]
  },
  {
   "cell_type": "code",
   "execution_count": null,
   "metadata": {},
   "outputs": [],
   "source": [
    "for k in range(1, 3):\n",
    "\n",
    "    print('test metrics:')\n",
    "    print_results(model, \"test.txt\", k)"
   ]
  },
  {
   "cell_type": "code",
   "execution_count": null,
   "metadata": {},
   "outputs": [],
   "source": [
    "model.save_model(\"fast_filename.ftz\")"
   ]
  },
  {
   "cell_type": "code",
   "execution_count": null,
   "metadata": {},
   "outputs": [],
   "source": [
    "#model.save_model(\"model_filename.bin\")"
   ]
  },
  {
   "cell_type": "code",
   "execution_count": null,
   "metadata": {},
   "outputs": [],
   "source": [
    "import time\n",
    "start=time.time()\n",
    "model = fasttext.train_supervised('train2.txt', wordNgrams = 2,lr=0.1,bucket=2000)\n",
    "#model.predict(\"machine learning\")\n",
    "stop=time.time()\n",
    "print(stop-start)"
   ]
  },
  {
   "cell_type": "code",
   "execution_count": null,
   "metadata": {},
   "outputs": [],
   "source": []
  },
  {
   "cell_type": "code",
   "execution_count": null,
   "metadata": {},
   "outputs": [],
   "source": []
  },
  {
   "cell_type": "code",
   "execution_count": null,
   "metadata": {},
   "outputs": [],
   "source": [
    "model.predict('machine learning')"
   ]
  },
  {
   "cell_type": "code",
   "execution_count": null,
   "metadata": {},
   "outputs": [],
   "source": [
    "data1 = pd.read_csv('keywords.txt' ,header=None)"
   ]
  },
  {
   "cell_type": "code",
   "execution_count": null,
   "metadata": {},
   "outputs": [],
   "source": [
    "data1"
   ]
  },
  {
   "cell_type": "code",
   "execution_count": null,
   "metadata": {},
   "outputs": [],
   "source": [
    "data1=data1.rename(columns={0:\"keywords\"})"
   ]
  },
  {
   "cell_type": "code",
   "execution_count": null,
   "metadata": {},
   "outputs": [],
   "source": [
    "output=[]\n",
    "for i in data1[\"keywords\"]:\n",
    "    label=model.predict(i)\n",
    "    output.append(i)\n",
    "    print(output)\n",
    "    "
   ]
  },
  {
   "cell_type": "code",
   "execution_count": null,
   "metadata": {},
   "outputs": [],
   "source": []
  }
 ],
 "metadata": {
  "kernelspec": {
   "display_name": "Python 3",
   "language": "python",
   "name": "python3"
  },
  "language_info": {
   "codemirror_mode": {
    "name": "ipython",
    "version": 3
   },
   "file_extension": ".py",
   "mimetype": "text/x-python",
   "name": "python",
   "nbconvert_exporter": "python",
   "pygments_lexer": "ipython3",
   "version": "3.7.4"
  }
 },
 "nbformat": 4,
 "nbformat_minor": 2
}
